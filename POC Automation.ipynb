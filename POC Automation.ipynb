{
 "cells": [
  {
   "cell_type": "markdown",
   "id": "1ecae474",
   "metadata": {},
   "source": [
    "## Criar um perfil"
   ]
  },
  {
   "cell_type": "code",
   "execution_count": 17,
   "id": "1e8f5465",
   "metadata": {},
   "outputs": [
    {
     "name": "stdout",
     "output_type": "stream",
     "text": [
      "Pressione Enter para fechar o navegador e salvar os dados da sessão...\n"
     ]
    }
   ],
   "source": [
    "from selenium import webdriver\n",
    "from selenium.webdriver.chrome.service import Service\n",
    "from selenium.webdriver.chrome.options import Options\n",
    "import os\n",
    "import time\n",
    "\n",
    "# Caminho para o driver do Chrome (certifique-se de substituir pelo caminho correto)\n",
    "chrome_driver_path = 'chromedriver'\n",
    "\n",
    "# Caminho para o diretório onde o perfil será salvo\n",
    "profile_directory = 'C:/Users/marqu/Desktop/POC automation/perfil/'\n",
    "\n",
    "# Cria o diretório se ele não existir\n",
    "if not os.path.exists(profile_directory):\n",
    "    os.makedirs(profile_directory)\n",
    "\n",
    "# Configura as opções do Chrome para usar o diretório de perfil\n",
    "chrome_options = Options()\n",
    "chrome_options.add_argument(f\"user-data-dir={profile_directory}\")\n",
    "\n",
    "# Inicializa o serviço do ChromeDriver\n",
    "service = Service(chrome_driver_path)\n",
    "\n",
    "# Inicializa o driver do Chrome com as opções especificadas\n",
    "driver = webdriver.Chrome(service=service, options=chrome_options)\n",
    "\n",
    "# Acesse uma página para demonstrar o uso do perfil\n",
    "driver.get('https://www.linkedin.com/feed/')\n",
    "\n",
    "# Exemplo de interação para gerar dados de sessão\n",
    "# Adicione qualquer interação que deseja aqui, por exemplo, login\n",
    "# ...\n",
    "\n",
    "# Aguarde um pouco para garantir que os dados da sessão sejam salvos\n",
    "time.sleep(10)  # Aguarda 10 segundos\n",
    "\n",
    "# Manter o navegador aberto para verificação\n",
    "input(\"Pressione Enter para fechar o navegador e salvar os dados da sessão...\")\n",
    "\n",
    "# Fecha o navegador\n",
    "driver.quit()\n"
   ]
  },
  {
   "cell_type": "markdown",
   "id": "267cdf03",
   "metadata": {},
   "source": [
    "## Desabilitar o GUI"
   ]
  },
  {
   "cell_type": "code",
   "execution_count": 8,
   "id": "446e3fda",
   "metadata": {},
   "outputs": [],
   "source": [
    "from selenium import webdriver\n",
    "from selenium.webdriver.common.keys import Keys\n",
    "from selenium.webdriver.common.by import By\n",
    "import time\n",
    "\n",
    "\n",
    "chrome_options = Options()\n",
    "chrome_options.add_argument(\"--headless\")  # Executa o Chrome em modo headless\n",
    "chrome_options.add_argument(\"--disable-gpu\")  # Desativa o uso da GPU (opcional, mas recomendado)\n",
    "chrome_options.add_argument(\"--no-sandbox\")  # Necessário em algumas distribuições Linux\n",
    "chrome_options.add_argument(\"--disable-dev-shm-usage\")  # Evita alguns problemas em containers\n"
   ]
  },
  {
   "cell_type": "code",
   "execution_count": null,
   "id": "7a246e97",
   "metadata": {},
   "outputs": [],
   "source": []
  },
  {
   "cell_type": "code",
   "execution_count": 9,
   "id": "db65ac67",
   "metadata": {},
   "outputs": [],
   "source": [
    "\n",
    "# Inicialize o driver (você precisa ter o WebDriver do Chrome, ou outro navegador, instalado e configurado)\n",
    "#driver = webdriver.Chrome(executable_path='chromedriver', options=chrome_options)\n",
    "driver = webdriver.Chrome(executable_path='chromedriver')\n"
   ]
  },
  {
   "cell_type": "code",
   "execution_count": 10,
   "id": "99f99f9a",
   "metadata": {},
   "outputs": [],
   "source": [
    "# Abra o Google\n",
    "driver.get(\"https://www.google.com\")\n",
    "\n",
    "# Aguarde até que a página carregue completamente\n",
    "time.sleep(2)\n",
    "\n",
    "# Encontre a barra de pesquisa pelo nome do elemento\n",
    "search_box = driver.find_element(By.NAME, \"q\")\n",
    "\n",
    "# Digite o termo de pesquisa\n",
    "search_box.send_keys(\"Selenium Python\")\n",
    "\n",
    "# Simule o pressionamento da tecla Enter\n",
    "search_box.send_keys(Keys.RETURN)\n",
    "\n",
    "# Aguarde alguns segundos para ver os resultados\n",
    "time.sleep(5)\n",
    "\n",
    "# Feche o navegador\n",
    "driver.quit()"
   ]
  },
  {
   "cell_type": "markdown",
   "id": "7617d3ec",
   "metadata": {},
   "source": [
    "## subir o video do Itaú"
   ]
  },
  {
   "cell_type": "code",
   "execution_count": null,
   "id": "f8464f84",
   "metadata": {},
   "outputs": [],
   "source": [
    "import cv2\n",
    "\n",
    "# Caminho para o arquivo de vídeo\n",
    "video_path = 'video.mp4'\n",
    "\n",
    "# Cria um objeto VideoCapture para ler o vídeo\n",
    "cap = cv2.VideoCapture(video_path)\n",
    "\n",
    "if not cap.isOpened():\n",
    "    print(\"Erro ao abrir o vídeo.\")\n",
    "    exit()\n",
    "\n",
    "# Cria uma janela\n",
    "cv2.namedWindow('Reprodução do Vídeo', cv2.WND_PROP_FULLSCREEN)\n",
    "cv2.setWindowProperty('Reprodução do Vídeo', cv2.WND_PROP_FULLSCREEN, cv2.WINDOW_FULLSCREEN)\n",
    "\n",
    "# Defina a nova resolução\n",
    "new_width = 3000\n",
    "new_height = 3000\n",
    "\n",
    "while True:\n",
    "    # Captura frame a frame\n",
    "    ret, frame = cap.read()\n",
    "\n",
    "    # Se não conseguir ler o frame, sai do loop\n",
    "    if not ret:\n",
    "        break\n",
    "\n",
    "    # Redimensiona o frame\n",
    "    frame_resized = cv2.resize(frame, (new_width, new_height))\n",
    "\n",
    "    # Exibe o frame redimensionado\n",
    "    cv2.imshow('Reprodução do Vídeo', frame_resized)\n",
    "\n",
    "    # Sai do loop se a tecla 'q' for pressionada\n",
    "    if cv2.waitKey(25) & 0xFF == ord('q'):\n",
    "        break\n",
    "\n",
    "# Libera o objeto VideoCapture e fecha as janelas\n",
    "cap.release()\n",
    "cv2.destroyAllWindows()\n"
   ]
  },
  {
   "cell_type": "markdown",
   "id": "8d392cd2",
   "metadata": {},
   "source": [
    "## Subir video de curiosidades"
   ]
  },
  {
   "cell_type": "code",
   "execution_count": 2,
   "id": "90f42ee0",
   "metadata": {},
   "outputs": [],
   "source": [
    "import cv2\n",
    "\n",
    "# Caminho para o arquivo de vídeo\n",
    "video_path = 'imgs/AP1.mp4'\n",
    "\n",
    "# Cria um objeto VideoCapture para ler o vídeo\n",
    "cap = cv2.VideoCapture(video_path)\n",
    "\n",
    "if not cap.isOpened():\n",
    "    print(\"Erro ao abrir o vídeo.\")\n",
    "    exit()\n",
    "\n",
    "# Cria uma janela\n",
    "cv2.namedWindow('Reprodução do Vídeo', cv2.WND_PROP_FULLSCREEN)\n",
    "cv2.setWindowProperty('Reprodução do Vídeo', cv2.WND_PROP_FULLSCREEN, cv2.WINDOW_FULLSCREEN)\n",
    "\n",
    "# Defina a nova resolução\n",
    "new_width = 3000\n",
    "new_height = 3000\n",
    "\n",
    "while True:\n",
    "    # Captura frame a frame\n",
    "    ret, frame = cap.read()\n",
    "\n",
    "    # Se não conseguir ler o frame, sai do loop\n",
    "    if not ret:\n",
    "        break\n",
    "\n",
    "    # Redimensiona o frame\n",
    "    frame_resized = cv2.resize(frame, (new_width, new_height))\n",
    "\n",
    "    # Exibe o frame redimensionado\n",
    "    cv2.imshow('Reprodução do Vídeo', frame_resized)\n",
    "\n",
    "    # Sai do loop se a tecla 'q' for pressionada\n",
    "    if cv2.waitKey(25) & 0xFF == ord('q'):\n",
    "        break\n",
    "\n",
    "# Libera o objeto VideoCapture e fecha as janelas\n",
    "cap.release()\n",
    "cv2.destroyAllWindows()\n"
   ]
  },
  {
   "cell_type": "code",
   "execution_count": null,
   "id": "18be6c0b",
   "metadata": {},
   "outputs": [],
   "source": []
  }
 ],
 "metadata": {
  "kernelspec": {
   "display_name": "Python 3 (ipykernel)",
   "language": "python",
   "name": "python3"
  },
  "language_info": {
   "codemirror_mode": {
    "name": "ipython",
    "version": 3
   },
   "file_extension": ".py",
   "mimetype": "text/x-python",
   "name": "python",
   "nbconvert_exporter": "python",
   "pygments_lexer": "ipython3",
   "version": "3.9.13"
  }
 },
 "nbformat": 4,
 "nbformat_minor": 5
}
